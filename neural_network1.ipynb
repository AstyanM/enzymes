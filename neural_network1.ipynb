{
 "cells": [
  {
   "cell_type": "code",
   "execution_count": 1,
   "id": "eae23329",
   "metadata": {},
   "outputs": [
    {
     "name": "stderr",
     "output_type": "stream",
     "text": [
      "2023-11-06 11:14:40.213974: I tensorflow/core/platform/cpu_feature_guard.cc:182] This TensorFlow binary is optimized to use available CPU instructions in performance-critical operations.\n",
      "To enable the following instructions: SSE4.1 SSE4.2, in other operations, rebuild TensorFlow with the appropriate compiler flags.\n"
     ]
    }
   ],
   "source": [
    "import numpy as np\n",
    "import matplotlib.pyplot as plt\n",
    "import keras\n",
    "\n",
    "from keras.models import Sequential\n",
    "from keras.layers import *\n",
    "\n",
    "from sklearn.model_selection import train_test_split"
   ]
  },
  {
   "cell_type": "code",
   "execution_count": 2,
   "id": "705920eb",
   "metadata": {},
   "outputs": [],
   "source": [
    "%run Enzymes_data_NoPrint.ipynb"
   ]
  },
  {
   "cell_type": "code",
   "execution_count": 3,
   "id": "f50b1169",
   "metadata": {},
   "outputs": [],
   "source": [
    "def letters_to_classes(dic):\n",
    "    tab = []\n",
    "    erreur = False\n",
    "    sequences = [sequ for sequ in dic.values()]\n",
    "    for i in range(len(sequences)):\n",
    "        #print(sequences[i])\n",
    "        tab_lettres = []\n",
    "        \n",
    "        for lettre in sequences[i]:\n",
    "            if lettre == \"-\":\n",
    "                tab_lettres.append(0)\n",
    "            elif (ord(lettre) <= 90) &  (ord(lettre) >= 65):\n",
    "                tab_lettres.append(ord(lettre)-64)\n",
    "            else:\n",
    "                print(\"Séquence\",i,\"possède une valeur non standard\")\n",
    "                erreur = True\n",
    "        if not erreur:\n",
    "            tab.append(tab_lettres)\n",
    "            erreur = False\n",
    "    #print(tab)\n",
    "    return np.array(tab)           \n",
    "            \n",
    "            "
   ]
  },
  {
   "cell_type": "code",
   "execution_count": 4,
   "id": "35d2c790",
   "metadata": {},
   "outputs": [],
   "source": [
    "dic = {\n",
    "    \"seq1\" : \"AAGATGATB-TABBAGT\",\n",
    "    \"seq2\" : \"AAGATGATAGAATGAGT\",\n",
    "    \"seq3\" : \"AATATGTAGATATGGAG\",\n",
    "    \"seq4\" : \"TBATABTATTATATABD\"\n",
    "}\n",
    "\n",
    "\n",
    "non = \"XBZJOU\"\n",
    "longueur = 546"
   ]
  },
  {
   "cell_type": "code",
   "execution_count": 5,
   "id": "d2b2a4c2",
   "metadata": {},
   "outputs": [
    {
     "data": {
      "text/plain": [
       "array([[ 1,  1,  7,  1, 20,  7,  1, 20,  2,  0, 20,  1,  2,  2,  1,  7,\n",
       "        20],\n",
       "       [ 1,  1,  7,  1, 20,  7,  1, 20,  1,  7,  1,  1, 20,  7,  1,  7,\n",
       "        20],\n",
       "       [ 1,  1, 20,  1, 20,  7, 20,  1,  7,  1, 20,  1, 20,  7,  7,  1,\n",
       "         7],\n",
       "       [20,  2,  1, 20,  1,  2, 20,  1, 20, 20,  1, 20,  1, 20,  1,  2,\n",
       "         4]])"
      ]
     },
     "execution_count": 5,
     "metadata": {},
     "output_type": "execute_result"
    }
   ],
   "source": [
    "letters_to_classes(dic)"
   ]
  },
  {
   "cell_type": "code",
   "execution_count": 6,
   "id": "3b4e87bf",
   "metadata": {},
   "outputs": [],
   "source": [
    "def get_labels():\n",
    "    tab = np.random.uniform(0, 1, size=(4,10))\n",
    "    return np.array(tab)"
   ]
  },
  {
   "cell_type": "code",
   "execution_count": 7,
   "id": "8b0db6e1",
   "metadata": {},
   "outputs": [
    {
     "name": "stdout",
     "output_type": "stream",
     "text": [
      "X_train shape : (207, 546)\n",
      "y_train shape : (207, 18)\n"
     ]
    }
   ],
   "source": [
    "sequences = get_aligned_sequences()\n",
    "X = np.array(letters_to_classes(sequences)).astype('float32')\n",
    "y, dic_solvants, dic_enzymes = get_targets()\n",
    "\n",
    "#X = X[:100] # Les x premiers\n",
    "#y = y[:100]\n",
    "\n",
    "X_train, X_test, y_train, y_test = train_test_split(X, y, test_size=0.2, random_state=42)\n",
    "\n",
    "print(\"X_train shape :\", X_train.shape)\n",
    "print(\"y_train shape :\", y_train.shape)"
   ]
  },
  {
   "cell_type": "code",
   "execution_count": 8,
   "id": "cb984602",
   "metadata": {},
   "outputs": [
    {
     "name": "stderr",
     "output_type": "stream",
     "text": [
      "2023-11-06 11:14:46.645344: I tensorflow/core/common_runtime/process_util.cc:146] Creating new thread pool with default inter op setting: 2. Tune using inter_op_parallelism_threads for best performance.\n"
     ]
    }
   ],
   "source": [
    "model = Sequential()\n",
    "model.add(Dense(2000, activation=\"relu\", input_shape=(546,)))\n",
    "model.add(BatchNormalization())\n",
    "model.add(Dropout(0.2))\n",
    "model.add(Dense(1500, activation=\"relu\"))\n",
    "model.add(BatchNormalization())\n",
    "model.add(Dropout(0.2))\n",
    "model.add(Dense(1000, activation=\"relu\"))\n",
    "model.add(BatchNormalization())\n",
    "model.add(Dropout(0.2))\n",
    "model.add(Dense(500, activation=\"relu\"))\n",
    "model.add(BatchNormalization())\n",
    "model.add(Dropout(0.2))\n",
    "model.add(Dense(200, activation=\"relu\"))\n",
    "model.add(BatchNormalization())\n",
    "model.add(Dense(50, activation=\"relu\"))\n",
    "model.add(BatchNormalization())\n",
    "model.add(Dropout(0.2))\n",
    "model.add(Dense(18))"
   ]
  },
  {
   "cell_type": "code",
   "execution_count": 9,
   "id": "24408781",
   "metadata": {
    "scrolled": true
   },
   "outputs": [
    {
     "name": "stdout",
     "output_type": "stream",
     "text": [
      "Model: \"sequential\"\n",
      "_________________________________________________________________\n",
      " Layer (type)                Output Shape              Param #   \n",
      "=================================================================\n",
      " dense (Dense)               (None, 2000)              1094000   \n",
      "                                                                 \n",
      " batch_normalization (BatchN  (None, 2000)             8000      \n",
      " ormalization)                                                   \n",
      "                                                                 \n",
      " dropout (Dropout)           (None, 2000)              0         \n",
      "                                                                 \n",
      " dense_1 (Dense)             (None, 1500)              3001500   \n",
      "                                                                 \n",
      " batch_normalization_1 (Batc  (None, 1500)             6000      \n",
      " hNormalization)                                                 \n",
      "                                                                 \n",
      " dropout_1 (Dropout)         (None, 1500)              0         \n",
      "                                                                 \n",
      " dense_2 (Dense)             (None, 1000)              1501000   \n",
      "                                                                 \n",
      " batch_normalization_2 (Batc  (None, 1000)             4000      \n",
      " hNormalization)                                                 \n",
      "                                                                 \n",
      " dropout_2 (Dropout)         (None, 1000)              0         \n",
      "                                                                 \n",
      " dense_3 (Dense)             (None, 500)               500500    \n",
      "                                                                 \n",
      " batch_normalization_3 (Batc  (None, 500)              2000      \n",
      " hNormalization)                                                 \n",
      "                                                                 \n",
      " dropout_3 (Dropout)         (None, 500)               0         \n",
      "                                                                 \n",
      " dense_4 (Dense)             (None, 200)               100200    \n",
      "                                                                 \n",
      " batch_normalization_4 (Batc  (None, 200)              800       \n",
      " hNormalization)                                                 \n",
      "                                                                 \n",
      " dense_5 (Dense)             (None, 50)                10050     \n",
      "                                                                 \n",
      " batch_normalization_5 (Batc  (None, 50)               200       \n",
      " hNormalization)                                                 \n",
      "                                                                 \n",
      " dropout_4 (Dropout)         (None, 50)                0         \n",
      "                                                                 \n",
      " dense_6 (Dense)             (None, 18)                918       \n",
      "                                                                 \n",
      "=================================================================\n",
      "Total params: 6,229,168\n",
      "Trainable params: 6,218,668\n",
      "Non-trainable params: 10,500\n",
      "_________________________________________________________________\n"
     ]
    }
   ],
   "source": [
    "model.compile(loss='mse', optimizer='adam', metrics=['mse'])\n",
    "#history = model.fit(X_train, y_train, validation_data=(X_test, y_test), epochs=100, batch_size=32)\n",
    "model.summary()"
   ]
  },
  {
   "cell_type": "code",
   "execution_count": 10,
   "id": "5327b6ea",
   "metadata": {},
   "outputs": [
    {
     "name": "stdout",
     "output_type": "stream",
     "text": [
      "9/9 [==============================] - 1s 72ms/step\n",
      "Prediction shape : (259, 18)\n",
      "\n",
      "************************** Résultats pour l'enzyme : C7RAM1 *************************\n",
      "\n",
      "Pred: 0.5885663 Target: 0.8\n",
      "Pred: 2.1381335 Target: 0.7\n",
      "Pred: -0.9664899 Target: 0.03\n",
      "Pred: 0.7953781 Target: 0.1\n",
      "Pred: -2.512067 Target: 0.12\n",
      "Pred: 1.4268326 Target: 0.02\n",
      "Pred: 2.8442063 Target: 0.02\n",
      "Pred: 4.4371505 Target: 0.01\n",
      "Pred: -5.404073 Target: 0.06\n",
      "Pred: 0.6798948 Target: 0.0\n",
      "Pred: 2.450664 Target: 0.02\n",
      "Pred: -4.6906595 Target: 0.01\n",
      "Pred: 0.9550227 Target: 0.01\n",
      "Pred: -4.4362288 Target: 0.09\n",
      "Pred: 4.8860397 Target: 0.36\n",
      "Pred: 6.495889 Target: 0.01\n",
      "Pred: 0.43481728 Target: 0.01\n",
      "Pred: -2.6496408 Target: 0.01\n"
     ]
    }
   ],
   "source": [
    "pred = model.predict(X)\n",
    "print(\"Prediction shape :\", pred.shape)\n",
    "print()\n",
    "enzyme_index = 0\n",
    "print(\"************************** Résultats pour l'enzyme :\", dic_enzymes[enzyme_index], \"*************************\")\n",
    "print()\n",
    "for i in range(len(pred[0])):\n",
    "    print(\"Pred:\",pred[enzyme_index][i],\"Target:\", y[enzyme_index][i])\n",
    "#print(\"Prédiction :\",pred[0])\n",
    "#print(\"Attendu :\", y[0])"
   ]
  },
  {
   "cell_type": "code",
   "execution_count": 11,
   "id": "c38218b3",
   "metadata": {},
   "outputs": [],
   "source": [
    "courbe = False\n",
    "if courbe:\n",
    "    plt.plot(history.history['loss'])\n",
    "    plt.show()\n",
    "    plt.plot(history.history['val_loss'])\n",
    "    plt.show()"
   ]
  },
  {
   "cell_type": "code",
   "execution_count": 12,
   "id": "233623e6",
   "metadata": {},
   "outputs": [],
   "source": [
    "# 1D Convolutional Neural Network"
   ]
  },
  {
   "cell_type": "code",
   "execution_count": 13,
   "id": "88ef6556",
   "metadata": {},
   "outputs": [],
   "source": [
    "from keras.preprocessing.text import Tokenizer\n",
    "from keras_preprocessing.sequence import pad_sequences"
   ]
  },
  {
   "cell_type": "code",
   "execution_count": 14,
   "id": "1f434144",
   "metadata": {},
   "outputs": [],
   "source": [
    "sequences = get_aligned_sequences()\n",
    "#X = np.array(letters_to_classes(sequences)).astype('float32')\n",
    "X = np.array(letters_to_classes(sequences))\n",
    "y, dic_solvants, dic_enzymes = get_targets()\n",
    "#for i in range(len(X)):\n",
    "#    print(max(X[i]))\n",
    "#print(X[0])"
   ]
  },
  {
   "cell_type": "code",
   "execution_count": 15,
   "id": "35e0dbc9",
   "metadata": {},
   "outputs": [],
   "source": [
    "X_train, X_test, y_train, y_test = train_test_split(X, y, test_size=0.2, random_state=42)"
   ]
  },
  {
   "cell_type": "code",
   "execution_count": 16,
   "id": "d25d0435",
   "metadata": {},
   "outputs": [],
   "source": [
    "#sequ = ['AABABABBBATBATBATBATB']\n",
    "#tokenizer = Tokenizer(char_level=True)\n",
    "#tokenizer.fit_on_texts(sequ)\n",
    "#sequences = tokenizer.texts_to_sequences(sequ)\n",
    "\n",
    "#x = pad_sequences(sequences, padding='post')\n",
    "#print(x[0][4])"
   ]
  },
  {
   "cell_type": "code",
   "execution_count": 17,
   "id": "6db3c523",
   "metadata": {},
   "outputs": [
    {
     "name": "stdout",
     "output_type": "stream",
     "text": [
      "(None, 546, 50)\n"
     ]
    }
   ],
   "source": [
    "model = Sequential()\n",
    "model.add(Embedding(input_dim=20, output_dim=50, input_length=546))\n",
    "print(model.output_shape)\n"
   ]
  },
  {
   "cell_type": "code",
   "execution_count": 18,
   "id": "64c638f1",
   "metadata": {},
   "outputs": [
    {
     "name": "stdout",
     "output_type": "stream",
     "text": [
      "Model: \"sequential_1\"\n",
      "_________________________________________________________________\n",
      " Layer (type)                Output Shape              Param #   \n",
      "=================================================================\n",
      " embedding (Embedding)       (None, 546, 50)           1000      \n",
      "                                                                 \n",
      "=================================================================\n",
      "Total params: 1,000\n",
      "Trainable params: 1,000\n",
      "Non-trainable params: 0\n",
      "_________________________________________________________________\n",
      "None\n"
     ]
    }
   ],
   "source": [
    "print(model.summary())"
   ]
  },
  {
   "cell_type": "code",
   "execution_count": 19,
   "id": "12fc5277",
   "metadata": {},
   "outputs": [],
   "source": [
    "model = Sequential()\n",
    "model.add(Embedding(input_dim=26, output_dim=50, input_length=546))\n",
    "model.add(Conv1D(filters=32, kernel_size=50, activation='relu'))\n",
    "model.add(MaxPooling1D(pool_size=2))\n",
    "model.add(Conv1D(filters=64, kernel_size=20, activation='relu'))\n",
    "model.add(MaxPooling1D(pool_size=2))\n",
    "model.add(Conv1D(filters=128, kernel_size=10, activation='relu'))\n",
    "model.add(MaxPooling1D(pool_size=2))\n",
    "model.add(Conv1D(filters=256, kernel_size=4, activation='relu'))\n",
    "model.add(MaxPooling1D(pool_size=2))\n",
    "model.add(Conv1D(filters=512, kernel_size=4, activation='relu'))\n",
    "model.add(MaxPooling1D(pool_size=2))\n",
    "\n",
    "model.add(GlobalMaxPooling1D())\n",
    "model.add(Dense(64,activation='relu'))\n",
    "model.add(Dense(32,activation='relu'))\n",
    "model.add(Dense(18))"
   ]
  },
  {
   "cell_type": "code",
   "execution_count": 20,
   "id": "0efe6e00",
   "metadata": {
    "scrolled": true
   },
   "outputs": [
    {
     "name": "stdout",
     "output_type": "stream",
     "text": [
      "Model: \"sequential_2\"\n",
      "_________________________________________________________________\n",
      " Layer (type)                Output Shape              Param #   \n",
      "=================================================================\n",
      " embedding_1 (Embedding)     (None, 546, 50)           1300      \n",
      "                                                                 \n",
      " conv1d (Conv1D)             (None, 497, 32)           80032     \n",
      "                                                                 \n",
      " max_pooling1d (MaxPooling1D  (None, 248, 32)          0         \n",
      " )                                                               \n",
      "                                                                 \n",
      " conv1d_1 (Conv1D)           (None, 229, 64)           41024     \n",
      "                                                                 \n",
      " max_pooling1d_1 (MaxPooling  (None, 114, 64)          0         \n",
      " 1D)                                                             \n",
      "                                                                 \n",
      " conv1d_2 (Conv1D)           (None, 105, 128)          82048     \n",
      "                                                                 \n",
      " max_pooling1d_2 (MaxPooling  (None, 52, 128)          0         \n",
      " 1D)                                                             \n",
      "                                                                 \n",
      " conv1d_3 (Conv1D)           (None, 49, 256)           131328    \n",
      "                                                                 \n",
      " max_pooling1d_3 (MaxPooling  (None, 24, 256)          0         \n",
      " 1D)                                                             \n",
      "                                                                 \n",
      " conv1d_4 (Conv1D)           (None, 21, 512)           524800    \n",
      "                                                                 \n",
      " max_pooling1d_4 (MaxPooling  (None, 10, 512)          0         \n",
      " 1D)                                                             \n",
      "                                                                 \n",
      " global_max_pooling1d (Globa  (None, 512)              0         \n",
      " lMaxPooling1D)                                                  \n",
      "                                                                 \n",
      " dense_7 (Dense)             (None, 64)                32832     \n",
      "                                                                 \n",
      " dense_8 (Dense)             (None, 32)                2080      \n",
      "                                                                 \n",
      " dense_9 (Dense)             (None, 18)                594       \n",
      "                                                                 \n",
      "=================================================================\n",
      "Total params: 896,038\n",
      "Trainable params: 896,038\n",
      "Non-trainable params: 0\n",
      "_________________________________________________________________\n",
      "None\n"
     ]
    }
   ],
   "source": [
    "print(model.summary())"
   ]
  },
  {
   "cell_type": "code",
   "execution_count": 21,
   "id": "569f532e",
   "metadata": {},
   "outputs": [
    {
     "name": "stdout",
     "output_type": "stream",
     "text": [
      "Epoch 1/60\n",
      "7/7 [==============================] - 13s 1s/step - loss: 0.1937 - mse: 0.1937 - val_loss: 0.2883 - val_mse: 0.2883\n",
      "Epoch 2/60\n",
      "7/7 [==============================] - 9s 1s/step - loss: 0.1877 - mse: 0.1877 - val_loss: 0.2767 - val_mse: 0.2767\n",
      "Epoch 3/60\n",
      "7/7 [==============================] - 10s 1s/step - loss: 0.1779 - mse: 0.1779 - val_loss: 0.2699 - val_mse: 0.2699\n",
      "Epoch 4/60\n",
      "7/7 [==============================] - 10s 1s/step - loss: 0.1727 - mse: 0.1727 - val_loss: 0.2665 - val_mse: 0.2665\n",
      "Epoch 5/60\n",
      "7/7 [==============================] - 9s 1s/step - loss: 0.1641 - mse: 0.1641 - val_loss: 0.2650 - val_mse: 0.2650\n",
      "Epoch 6/60\n",
      "7/7 [==============================] - 10s 1s/step - loss: 0.1558 - mse: 0.1558 - val_loss: 0.2685 - val_mse: 0.2685\n",
      "Epoch 7/60\n",
      "7/7 [==============================] - 10s 1s/step - loss: 0.1303 - mse: 0.1303 - val_loss: 0.2686 - val_mse: 0.2686\n",
      "Epoch 8/60\n",
      "7/7 [==============================] - 10s 1s/step - loss: 0.0920 - mse: 0.0920 - val_loss: 0.2688 - val_mse: 0.2688\n",
      "Epoch 9/60\n",
      "7/7 [==============================] - 10s 1s/step - loss: 0.0700 - mse: 0.0700 - val_loss: 0.2716 - val_mse: 0.2716\n",
      "Epoch 10/60\n",
      "7/7 [==============================] - 9s 1s/step - loss: 0.0972 - mse: 0.0972 - val_loss: 0.2651 - val_mse: 0.2651\n",
      "Epoch 11/60\n",
      "7/7 [==============================] - 10s 1s/step - loss: 0.1151 - mse: 0.1151 - val_loss: 0.2594 - val_mse: 0.2594\n",
      "Epoch 12/60\n",
      "7/7 [==============================] - 11s 2s/step - loss: 0.0818 - mse: 0.0818 - val_loss: 0.2601 - val_mse: 0.2601\n",
      "Epoch 13/60\n",
      "7/7 [==============================] - 10s 1s/step - loss: 0.0604 - mse: 0.0604 - val_loss: 0.2681 - val_mse: 0.2681\n",
      "Epoch 14/60\n",
      "7/7 [==============================] - 10s 1s/step - loss: 0.0582 - mse: 0.0582 - val_loss: 0.2596 - val_mse: 0.2596\n",
      "Epoch 15/60\n",
      "7/7 [==============================] - 10s 2s/step - loss: 0.0468 - mse: 0.0468 - val_loss: 0.2577 - val_mse: 0.2577\n",
      "Epoch 16/60\n",
      "7/7 [==============================] - 9s 1s/step - loss: 0.0445 - mse: 0.0445 - val_loss: 0.2633 - val_mse: 0.2633\n",
      "Epoch 17/60\n",
      "7/7 [==============================] - 9s 1s/step - loss: 0.0435 - mse: 0.0435 - val_loss: 0.2621 - val_mse: 0.2621\n",
      "Epoch 18/60\n",
      "7/7 [==============================] - 11s 2s/step - loss: 0.0421 - mse: 0.0421 - val_loss: 0.2556 - val_mse: 0.2556\n",
      "Epoch 19/60\n",
      "7/7 [==============================] - 11s 1s/step - loss: 0.0413 - mse: 0.0413 - val_loss: 0.2599 - val_mse: 0.2599\n",
      "Epoch 20/60\n",
      "7/7 [==============================] - 10s 1s/step - loss: 0.0408 - mse: 0.0408 - val_loss: 0.2583 - val_mse: 0.2583\n",
      "Epoch 21/60\n",
      "7/7 [==============================] - 10s 1s/step - loss: 0.0400 - mse: 0.0400 - val_loss: 0.2542 - val_mse: 0.2542\n",
      "Epoch 22/60\n",
      "7/7 [==============================] - 10s 1s/step - loss: 0.0398 - mse: 0.0398 - val_loss: 0.2610 - val_mse: 0.2610\n",
      "Epoch 23/60\n",
      "7/7 [==============================] - 10s 1s/step - loss: 0.0392 - mse: 0.0392 - val_loss: 0.2553 - val_mse: 0.2553\n",
      "Epoch 24/60\n",
      "7/7 [==============================] - 9s 1s/step - loss: 0.0380 - mse: 0.0380 - val_loss: 0.2505 - val_mse: 0.2505\n",
      "Epoch 25/60\n",
      "7/7 [==============================] - 9s 1s/step - loss: 0.0362 - mse: 0.0362 - val_loss: 0.2578 - val_mse: 0.2578\n",
      "Epoch 26/60\n",
      "7/7 [==============================] - 11s 2s/step - loss: 0.0355 - mse: 0.0355 - val_loss: 0.2543 - val_mse: 0.2543\n",
      "Epoch 27/60\n",
      "7/7 [==============================] - 10s 1s/step - loss: 0.0351 - mse: 0.0351 - val_loss: 0.2508 - val_mse: 0.2508\n",
      "Epoch 28/60\n",
      "7/7 [==============================] - 9s 1s/step - loss: 0.0344 - mse: 0.0344 - val_loss: 0.2681 - val_mse: 0.2681\n",
      "Epoch 29/60\n",
      "7/7 [==============================] - 9s 1s/step - loss: 0.0412 - mse: 0.0412 - val_loss: 0.2512 - val_mse: 0.2512\n",
      "Epoch 30/60\n",
      "7/7 [==============================] - 10s 1s/step - loss: 0.0379 - mse: 0.0379 - val_loss: 0.2621 - val_mse: 0.2621\n",
      "Epoch 31/60\n",
      "7/7 [==============================] - 10s 1s/step - loss: 0.0556 - mse: 0.0556 - val_loss: 0.2753 - val_mse: 0.2753\n",
      "Epoch 32/60\n",
      "7/7 [==============================] - 10s 1s/step - loss: 0.0918 - mse: 0.0918 - val_loss: 0.2432 - val_mse: 0.2432\n",
      "Epoch 33/60\n",
      "7/7 [==============================] - 10s 2s/step - loss: 0.0518 - mse: 0.0518 - val_loss: 0.2574 - val_mse: 0.2574\n",
      "Epoch 34/60\n",
      "7/7 [==============================] - 9s 1s/step - loss: 0.0456 - mse: 0.0456 - val_loss: 0.2760 - val_mse: 0.2760\n",
      "Epoch 35/60\n",
      "7/7 [==============================] - ETA: 0s - loss: 0.0411 - mse: 0.0411"
     ]
    },
    {
     "ename": "KeyboardInterrupt",
     "evalue": "",
     "output_type": "error",
     "traceback": [
      "\u001b[0;31m---------------------------------------------------------------------------\u001b[0m",
      "\u001b[0;31mKeyboardInterrupt\u001b[0m                         Traceback (most recent call last)",
      "Cell \u001b[0;32mIn[21], line 2\u001b[0m\n\u001b[1;32m      1\u001b[0m model\u001b[38;5;241m.\u001b[39mcompile(optimizer\u001b[38;5;241m=\u001b[39m\u001b[38;5;124m'\u001b[39m\u001b[38;5;124madam\u001b[39m\u001b[38;5;124m'\u001b[39m, loss\u001b[38;5;241m=\u001b[39m\u001b[38;5;124m'\u001b[39m\u001b[38;5;124mmse\u001b[39m\u001b[38;5;124m'\u001b[39m, metrics\u001b[38;5;241m=\u001b[39m[\u001b[38;5;124m'\u001b[39m\u001b[38;5;124mmse\u001b[39m\u001b[38;5;124m'\u001b[39m])\n\u001b[0;32m----> 2\u001b[0m model\u001b[38;5;241m.\u001b[39mfit(X_train,y_train, validation_data\u001b[38;5;241m=\u001b[39m(X_test, y_test), epochs\u001b[38;5;241m=\u001b[39m\u001b[38;5;241m60\u001b[39m)\n",
      "File \u001b[0;32m~/anaconda3/envs/ia/lib/python3.11/site-packages/keras/utils/traceback_utils.py:65\u001b[0m, in \u001b[0;36mfilter_traceback.<locals>.error_handler\u001b[0;34m(*args, **kwargs)\u001b[0m\n\u001b[1;32m     63\u001b[0m filtered_tb \u001b[38;5;241m=\u001b[39m \u001b[38;5;28;01mNone\u001b[39;00m\n\u001b[1;32m     64\u001b[0m \u001b[38;5;28;01mtry\u001b[39;00m:\n\u001b[0;32m---> 65\u001b[0m     \u001b[38;5;28;01mreturn\u001b[39;00m fn(\u001b[38;5;241m*\u001b[39margs, \u001b[38;5;241m*\u001b[39m\u001b[38;5;241m*\u001b[39mkwargs)\n\u001b[1;32m     66\u001b[0m \u001b[38;5;28;01mexcept\u001b[39;00m \u001b[38;5;167;01mException\u001b[39;00m \u001b[38;5;28;01mas\u001b[39;00m e:\n\u001b[1;32m     67\u001b[0m     filtered_tb \u001b[38;5;241m=\u001b[39m _process_traceback_frames(e\u001b[38;5;241m.\u001b[39m__traceback__)\n",
      "File \u001b[0;32m~/anaconda3/envs/ia/lib/python3.11/site-packages/keras/engine/training.py:1729\u001b[0m, in \u001b[0;36mModel.fit\u001b[0;34m(self, x, y, batch_size, epochs, verbose, callbacks, validation_split, validation_data, shuffle, class_weight, sample_weight, initial_epoch, steps_per_epoch, validation_steps, validation_batch_size, validation_freq, max_queue_size, workers, use_multiprocessing)\u001b[0m\n\u001b[1;32m   1714\u001b[0m \u001b[38;5;28;01mif\u001b[39;00m \u001b[38;5;28mgetattr\u001b[39m(\u001b[38;5;28mself\u001b[39m, \u001b[38;5;124m\"\u001b[39m\u001b[38;5;124m_eval_data_handler\u001b[39m\u001b[38;5;124m\"\u001b[39m, \u001b[38;5;28;01mNone\u001b[39;00m) \u001b[38;5;129;01mis\u001b[39;00m \u001b[38;5;28;01mNone\u001b[39;00m:\n\u001b[1;32m   1715\u001b[0m     \u001b[38;5;28mself\u001b[39m\u001b[38;5;241m.\u001b[39m_eval_data_handler \u001b[38;5;241m=\u001b[39m data_adapter\u001b[38;5;241m.\u001b[39mget_data_handler(\n\u001b[1;32m   1716\u001b[0m         x\u001b[38;5;241m=\u001b[39mval_x,\n\u001b[1;32m   1717\u001b[0m         y\u001b[38;5;241m=\u001b[39mval_y,\n\u001b[0;32m   (...)\u001b[0m\n\u001b[1;32m   1727\u001b[0m         steps_per_execution\u001b[38;5;241m=\u001b[39m\u001b[38;5;28mself\u001b[39m\u001b[38;5;241m.\u001b[39m_steps_per_execution,\n\u001b[1;32m   1728\u001b[0m     )\n\u001b[0;32m-> 1729\u001b[0m val_logs \u001b[38;5;241m=\u001b[39m \u001b[38;5;28mself\u001b[39m\u001b[38;5;241m.\u001b[39mevaluate(\n\u001b[1;32m   1730\u001b[0m     x\u001b[38;5;241m=\u001b[39mval_x,\n\u001b[1;32m   1731\u001b[0m     y\u001b[38;5;241m=\u001b[39mval_y,\n\u001b[1;32m   1732\u001b[0m     sample_weight\u001b[38;5;241m=\u001b[39mval_sample_weight,\n\u001b[1;32m   1733\u001b[0m     batch_size\u001b[38;5;241m=\u001b[39mvalidation_batch_size \u001b[38;5;129;01mor\u001b[39;00m batch_size,\n\u001b[1;32m   1734\u001b[0m     steps\u001b[38;5;241m=\u001b[39mvalidation_steps,\n\u001b[1;32m   1735\u001b[0m     callbacks\u001b[38;5;241m=\u001b[39mcallbacks,\n\u001b[1;32m   1736\u001b[0m     max_queue_size\u001b[38;5;241m=\u001b[39mmax_queue_size,\n\u001b[1;32m   1737\u001b[0m     workers\u001b[38;5;241m=\u001b[39mworkers,\n\u001b[1;32m   1738\u001b[0m     use_multiprocessing\u001b[38;5;241m=\u001b[39muse_multiprocessing,\n\u001b[1;32m   1739\u001b[0m     return_dict\u001b[38;5;241m=\u001b[39m\u001b[38;5;28;01mTrue\u001b[39;00m,\n\u001b[1;32m   1740\u001b[0m     _use_cached_eval_dataset\u001b[38;5;241m=\u001b[39m\u001b[38;5;28;01mTrue\u001b[39;00m,\n\u001b[1;32m   1741\u001b[0m )\n\u001b[1;32m   1742\u001b[0m val_logs \u001b[38;5;241m=\u001b[39m {\n\u001b[1;32m   1743\u001b[0m     \u001b[38;5;124m\"\u001b[39m\u001b[38;5;124mval_\u001b[39m\u001b[38;5;124m\"\u001b[39m \u001b[38;5;241m+\u001b[39m name: val \u001b[38;5;28;01mfor\u001b[39;00m name, val \u001b[38;5;129;01min\u001b[39;00m val_logs\u001b[38;5;241m.\u001b[39mitems()\n\u001b[1;32m   1744\u001b[0m }\n\u001b[1;32m   1745\u001b[0m epoch_logs\u001b[38;5;241m.\u001b[39mupdate(val_logs)\n",
      "File \u001b[0;32m~/anaconda3/envs/ia/lib/python3.11/site-packages/keras/utils/traceback_utils.py:65\u001b[0m, in \u001b[0;36mfilter_traceback.<locals>.error_handler\u001b[0;34m(*args, **kwargs)\u001b[0m\n\u001b[1;32m     63\u001b[0m filtered_tb \u001b[38;5;241m=\u001b[39m \u001b[38;5;28;01mNone\u001b[39;00m\n\u001b[1;32m     64\u001b[0m \u001b[38;5;28;01mtry\u001b[39;00m:\n\u001b[0;32m---> 65\u001b[0m     \u001b[38;5;28;01mreturn\u001b[39;00m fn(\u001b[38;5;241m*\u001b[39margs, \u001b[38;5;241m*\u001b[39m\u001b[38;5;241m*\u001b[39mkwargs)\n\u001b[1;32m     66\u001b[0m \u001b[38;5;28;01mexcept\u001b[39;00m \u001b[38;5;167;01mException\u001b[39;00m \u001b[38;5;28;01mas\u001b[39;00m e:\n\u001b[1;32m     67\u001b[0m     filtered_tb \u001b[38;5;241m=\u001b[39m _process_traceback_frames(e\u001b[38;5;241m.\u001b[39m__traceback__)\n",
      "File \u001b[0;32m~/anaconda3/envs/ia/lib/python3.11/site-packages/keras/engine/training.py:2072\u001b[0m, in \u001b[0;36mModel.evaluate\u001b[0;34m(self, x, y, batch_size, verbose, sample_weight, steps, callbacks, max_queue_size, workers, use_multiprocessing, return_dict, **kwargs)\u001b[0m\n\u001b[1;32m   2068\u001b[0m \u001b[38;5;28;01mwith\u001b[39;00m tf\u001b[38;5;241m.\u001b[39mprofiler\u001b[38;5;241m.\u001b[39mexperimental\u001b[38;5;241m.\u001b[39mTrace(\n\u001b[1;32m   2069\u001b[0m     \u001b[38;5;124m\"\u001b[39m\u001b[38;5;124mtest\u001b[39m\u001b[38;5;124m\"\u001b[39m, step_num\u001b[38;5;241m=\u001b[39mstep, _r\u001b[38;5;241m=\u001b[39m\u001b[38;5;241m1\u001b[39m\n\u001b[1;32m   2070\u001b[0m ):\n\u001b[1;32m   2071\u001b[0m     callbacks\u001b[38;5;241m.\u001b[39mon_test_batch_begin(step)\n\u001b[0;32m-> 2072\u001b[0m     tmp_logs \u001b[38;5;241m=\u001b[39m \u001b[38;5;28mself\u001b[39m\u001b[38;5;241m.\u001b[39mtest_function(iterator)\n\u001b[1;32m   2073\u001b[0m     \u001b[38;5;28;01mif\u001b[39;00m data_handler\u001b[38;5;241m.\u001b[39mshould_sync:\n\u001b[1;32m   2074\u001b[0m         context\u001b[38;5;241m.\u001b[39masync_wait()\n",
      "File \u001b[0;32m~/anaconda3/envs/ia/lib/python3.11/site-packages/tensorflow/python/util/traceback_utils.py:150\u001b[0m, in \u001b[0;36mfilter_traceback.<locals>.error_handler\u001b[0;34m(*args, **kwargs)\u001b[0m\n\u001b[1;32m    148\u001b[0m filtered_tb \u001b[38;5;241m=\u001b[39m \u001b[38;5;28;01mNone\u001b[39;00m\n\u001b[1;32m    149\u001b[0m \u001b[38;5;28;01mtry\u001b[39;00m:\n\u001b[0;32m--> 150\u001b[0m   \u001b[38;5;28;01mreturn\u001b[39;00m fn(\u001b[38;5;241m*\u001b[39margs, \u001b[38;5;241m*\u001b[39m\u001b[38;5;241m*\u001b[39mkwargs)\n\u001b[1;32m    151\u001b[0m \u001b[38;5;28;01mexcept\u001b[39;00m \u001b[38;5;167;01mException\u001b[39;00m \u001b[38;5;28;01mas\u001b[39;00m e:\n\u001b[1;32m    152\u001b[0m   filtered_tb \u001b[38;5;241m=\u001b[39m _process_traceback_frames(e\u001b[38;5;241m.\u001b[39m__traceback__)\n",
      "File \u001b[0;32m~/anaconda3/envs/ia/lib/python3.11/site-packages/tensorflow/python/eager/polymorphic_function/polymorphic_function.py:894\u001b[0m, in \u001b[0;36mFunction.__call__\u001b[0;34m(self, *args, **kwds)\u001b[0m\n\u001b[1;32m    891\u001b[0m compiler \u001b[38;5;241m=\u001b[39m \u001b[38;5;124m\"\u001b[39m\u001b[38;5;124mxla\u001b[39m\u001b[38;5;124m\"\u001b[39m \u001b[38;5;28;01mif\u001b[39;00m \u001b[38;5;28mself\u001b[39m\u001b[38;5;241m.\u001b[39m_jit_compile \u001b[38;5;28;01melse\u001b[39;00m \u001b[38;5;124m\"\u001b[39m\u001b[38;5;124mnonXla\u001b[39m\u001b[38;5;124m\"\u001b[39m\n\u001b[1;32m    893\u001b[0m \u001b[38;5;28;01mwith\u001b[39;00m OptionalXlaContext(\u001b[38;5;28mself\u001b[39m\u001b[38;5;241m.\u001b[39m_jit_compile):\n\u001b[0;32m--> 894\u001b[0m   result \u001b[38;5;241m=\u001b[39m \u001b[38;5;28mself\u001b[39m\u001b[38;5;241m.\u001b[39m_call(\u001b[38;5;241m*\u001b[39margs, \u001b[38;5;241m*\u001b[39m\u001b[38;5;241m*\u001b[39mkwds)\n\u001b[1;32m    896\u001b[0m new_tracing_count \u001b[38;5;241m=\u001b[39m \u001b[38;5;28mself\u001b[39m\u001b[38;5;241m.\u001b[39mexperimental_get_tracing_count()\n\u001b[1;32m    897\u001b[0m without_tracing \u001b[38;5;241m=\u001b[39m (tracing_count \u001b[38;5;241m==\u001b[39m new_tracing_count)\n",
      "File \u001b[0;32m~/anaconda3/envs/ia/lib/python3.11/site-packages/tensorflow/python/eager/polymorphic_function/polymorphic_function.py:933\u001b[0m, in \u001b[0;36mFunction._call\u001b[0;34m(self, *args, **kwds)\u001b[0m\n\u001b[1;32m    930\u001b[0m \u001b[38;5;28mself\u001b[39m\u001b[38;5;241m.\u001b[39m_lock\u001b[38;5;241m.\u001b[39mrelease()\n\u001b[1;32m    931\u001b[0m \u001b[38;5;66;03m# In this case we have not created variables on the first call. So we can\u001b[39;00m\n\u001b[1;32m    932\u001b[0m \u001b[38;5;66;03m# run the first trace but we should fail if variables are created.\u001b[39;00m\n\u001b[0;32m--> 933\u001b[0m results \u001b[38;5;241m=\u001b[39m \u001b[38;5;28mself\u001b[39m\u001b[38;5;241m.\u001b[39m_variable_creation_fn(\u001b[38;5;241m*\u001b[39margs, \u001b[38;5;241m*\u001b[39m\u001b[38;5;241m*\u001b[39mkwds)\n\u001b[1;32m    934\u001b[0m \u001b[38;5;28;01mif\u001b[39;00m \u001b[38;5;28mself\u001b[39m\u001b[38;5;241m.\u001b[39m_created_variables \u001b[38;5;129;01mand\u001b[39;00m \u001b[38;5;129;01mnot\u001b[39;00m ALLOW_DYNAMIC_VARIABLE_CREATION:\n\u001b[1;32m    935\u001b[0m   \u001b[38;5;28;01mraise\u001b[39;00m \u001b[38;5;167;01mValueError\u001b[39;00m(\u001b[38;5;124m\"\u001b[39m\u001b[38;5;124mCreating variables on a non-first call to a function\u001b[39m\u001b[38;5;124m\"\u001b[39m\n\u001b[1;32m    936\u001b[0m                    \u001b[38;5;124m\"\u001b[39m\u001b[38;5;124m decorated with tf.function.\u001b[39m\u001b[38;5;124m\"\u001b[39m)\n",
      "File \u001b[0;32m~/anaconda3/envs/ia/lib/python3.11/site-packages/tensorflow/python/eager/polymorphic_function/tracing_compiler.py:143\u001b[0m, in \u001b[0;36mTracingCompiler.__call__\u001b[0;34m(self, *args, **kwargs)\u001b[0m\n\u001b[1;32m    140\u001b[0m \u001b[38;5;28;01mwith\u001b[39;00m \u001b[38;5;28mself\u001b[39m\u001b[38;5;241m.\u001b[39m_lock:\n\u001b[1;32m    141\u001b[0m   (concrete_function,\n\u001b[1;32m    142\u001b[0m    filtered_flat_args) \u001b[38;5;241m=\u001b[39m \u001b[38;5;28mself\u001b[39m\u001b[38;5;241m.\u001b[39m_maybe_define_function(args, kwargs)\n\u001b[0;32m--> 143\u001b[0m \u001b[38;5;28;01mreturn\u001b[39;00m concrete_function\u001b[38;5;241m.\u001b[39m_call_flat(\n\u001b[1;32m    144\u001b[0m     filtered_flat_args, captured_inputs\u001b[38;5;241m=\u001b[39mconcrete_function\u001b[38;5;241m.\u001b[39mcaptured_inputs)\n",
      "File \u001b[0;32m~/anaconda3/envs/ia/lib/python3.11/site-packages/tensorflow/python/eager/polymorphic_function/monomorphic_function.py:1757\u001b[0m, in \u001b[0;36mConcreteFunction._call_flat\u001b[0;34m(self, args, captured_inputs, cancellation_manager)\u001b[0m\n\u001b[1;32m   1753\u001b[0m possible_gradient_type \u001b[38;5;241m=\u001b[39m gradients_util\u001b[38;5;241m.\u001b[39mPossibleTapeGradientTypes(args)\n\u001b[1;32m   1754\u001b[0m \u001b[38;5;28;01mif\u001b[39;00m (possible_gradient_type \u001b[38;5;241m==\u001b[39m gradients_util\u001b[38;5;241m.\u001b[39mPOSSIBLE_GRADIENT_TYPES_NONE\n\u001b[1;32m   1755\u001b[0m     \u001b[38;5;129;01mand\u001b[39;00m executing_eagerly):\n\u001b[1;32m   1756\u001b[0m   \u001b[38;5;66;03m# No tape is watching; skip to running the function.\u001b[39;00m\n\u001b[0;32m-> 1757\u001b[0m   \u001b[38;5;28;01mreturn\u001b[39;00m \u001b[38;5;28mself\u001b[39m\u001b[38;5;241m.\u001b[39m_build_call_outputs(\u001b[38;5;28mself\u001b[39m\u001b[38;5;241m.\u001b[39m_inference_function\u001b[38;5;241m.\u001b[39mcall(\n\u001b[1;32m   1758\u001b[0m       ctx, args, cancellation_manager\u001b[38;5;241m=\u001b[39mcancellation_manager))\n\u001b[1;32m   1759\u001b[0m forward_backward \u001b[38;5;241m=\u001b[39m \u001b[38;5;28mself\u001b[39m\u001b[38;5;241m.\u001b[39m_select_forward_and_backward_functions(\n\u001b[1;32m   1760\u001b[0m     args,\n\u001b[1;32m   1761\u001b[0m     possible_gradient_type,\n\u001b[1;32m   1762\u001b[0m     executing_eagerly)\n\u001b[1;32m   1763\u001b[0m forward_function, args_with_tangents \u001b[38;5;241m=\u001b[39m forward_backward\u001b[38;5;241m.\u001b[39mforward()\n",
      "File \u001b[0;32m~/anaconda3/envs/ia/lib/python3.11/site-packages/tensorflow/python/eager/polymorphic_function/monomorphic_function.py:381\u001b[0m, in \u001b[0;36m_EagerDefinedFunction.call\u001b[0;34m(self, ctx, args, cancellation_manager)\u001b[0m\n\u001b[1;32m    379\u001b[0m \u001b[38;5;28;01mwith\u001b[39;00m _InterpolateFunctionError(\u001b[38;5;28mself\u001b[39m):\n\u001b[1;32m    380\u001b[0m   \u001b[38;5;28;01mif\u001b[39;00m cancellation_manager \u001b[38;5;129;01mis\u001b[39;00m \u001b[38;5;28;01mNone\u001b[39;00m:\n\u001b[0;32m--> 381\u001b[0m     outputs \u001b[38;5;241m=\u001b[39m execute\u001b[38;5;241m.\u001b[39mexecute(\n\u001b[1;32m    382\u001b[0m         \u001b[38;5;28mstr\u001b[39m(\u001b[38;5;28mself\u001b[39m\u001b[38;5;241m.\u001b[39msignature\u001b[38;5;241m.\u001b[39mname),\n\u001b[1;32m    383\u001b[0m         num_outputs\u001b[38;5;241m=\u001b[39m\u001b[38;5;28mself\u001b[39m\u001b[38;5;241m.\u001b[39m_num_outputs,\n\u001b[1;32m    384\u001b[0m         inputs\u001b[38;5;241m=\u001b[39margs,\n\u001b[1;32m    385\u001b[0m         attrs\u001b[38;5;241m=\u001b[39mattrs,\n\u001b[1;32m    386\u001b[0m         ctx\u001b[38;5;241m=\u001b[39mctx)\n\u001b[1;32m    387\u001b[0m   \u001b[38;5;28;01melse\u001b[39;00m:\n\u001b[1;32m    388\u001b[0m     outputs \u001b[38;5;241m=\u001b[39m execute\u001b[38;5;241m.\u001b[39mexecute_with_cancellation(\n\u001b[1;32m    389\u001b[0m         \u001b[38;5;28mstr\u001b[39m(\u001b[38;5;28mself\u001b[39m\u001b[38;5;241m.\u001b[39msignature\u001b[38;5;241m.\u001b[39mname),\n\u001b[1;32m    390\u001b[0m         num_outputs\u001b[38;5;241m=\u001b[39m\u001b[38;5;28mself\u001b[39m\u001b[38;5;241m.\u001b[39m_num_outputs,\n\u001b[0;32m   (...)\u001b[0m\n\u001b[1;32m    393\u001b[0m         ctx\u001b[38;5;241m=\u001b[39mctx,\n\u001b[1;32m    394\u001b[0m         cancellation_manager\u001b[38;5;241m=\u001b[39mcancellation_manager)\n",
      "File \u001b[0;32m~/anaconda3/envs/ia/lib/python3.11/site-packages/tensorflow/python/eager/execute.py:52\u001b[0m, in \u001b[0;36mquick_execute\u001b[0;34m(op_name, num_outputs, inputs, attrs, ctx, name)\u001b[0m\n\u001b[1;32m     50\u001b[0m \u001b[38;5;28;01mtry\u001b[39;00m:\n\u001b[1;32m     51\u001b[0m   ctx\u001b[38;5;241m.\u001b[39mensure_initialized()\n\u001b[0;32m---> 52\u001b[0m   tensors \u001b[38;5;241m=\u001b[39m pywrap_tfe\u001b[38;5;241m.\u001b[39mTFE_Py_Execute(ctx\u001b[38;5;241m.\u001b[39m_handle, device_name, op_name,\n\u001b[1;32m     53\u001b[0m                                       inputs, attrs, num_outputs)\n\u001b[1;32m     54\u001b[0m \u001b[38;5;28;01mexcept\u001b[39;00m core\u001b[38;5;241m.\u001b[39m_NotOkStatusException \u001b[38;5;28;01mas\u001b[39;00m e:\n\u001b[1;32m     55\u001b[0m   \u001b[38;5;28;01mif\u001b[39;00m name \u001b[38;5;129;01mis\u001b[39;00m \u001b[38;5;129;01mnot\u001b[39;00m \u001b[38;5;28;01mNone\u001b[39;00m:\n",
      "\u001b[0;31mKeyboardInterrupt\u001b[0m: "
     ]
    }
   ],
   "source": [
    "model.compile(optimizer='adam', loss='mse', metrics=['mse'])\n",
    "model.fit(X_train,y_train, validation_data=(X_test, y_test), epochs=60)"
   ]
  },
  {
   "cell_type": "code",
   "execution_count": null,
   "id": "c04a9cfd",
   "metadata": {},
   "outputs": [],
   "source": []
  },
  {
   "cell_type": "code",
   "execution_count": null,
   "id": "1ade9618",
   "metadata": {},
   "outputs": [],
   "source": []
  },
  {
   "cell_type": "code",
   "execution_count": null,
   "id": "9f76aff7",
   "metadata": {},
   "outputs": [],
   "source": []
  }
 ],
 "metadata": {
  "kernelspec": {
   "display_name": "Python 3 (ipykernel)",
   "language": "python",
   "name": "python3"
  },
  "language_info": {
   "codemirror_mode": {
    "name": "ipython",
    "version": 3
   },
   "file_extension": ".py",
   "mimetype": "text/x-python",
   "name": "python",
   "nbconvert_exporter": "python",
   "pygments_lexer": "ipython3",
   "version": "3.11.5"
  }
 },
 "nbformat": 4,
 "nbformat_minor": 5
}
